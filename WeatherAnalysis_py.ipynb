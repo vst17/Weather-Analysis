{
 "cells": [
  {
   "cell_type": "code",
   "execution_count": 61,
   "metadata": {},
   "outputs": [],
   "source": [
    "# Dependencies\n",
    "import pandas as pd\n",
    "import matplotlib.pyplot as plt\n",
    "import seaborn as sns\n",
    "import requests \n",
    "import numpy as np\n",
    "from random import uniform\n",
    "from datetime import datetime\n",
    "# to generate over 500 citites, install citypy (pip install citipy on gitbash terminal)\n",
    "from citipy import citipy\n",
    "# Api_key for the weather\n",
    "from config import api_key\n"
   ]
  },
  {
   "cell_type": "markdown",
   "metadata": {},
   "source": [
    "# Generate Cities from Lats and Longs"
   ]
  },
  {
   "cell_type": "code",
   "execution_count": 62,
   "metadata": {},
   "outputs": [],
   "source": [
    "# create dataframe to lat, lon\n",
    "column_names = ['City', 'Country']\n",
    "cities_df = pd.DataFrame(columns=column_names)"
   ]
  },
  {
   "cell_type": "code",
   "execution_count": 64,
   "metadata": {},
   "outputs": [],
   "source": [
    "# Randomly generate a list of 1750 cities. Use 50 to test for duplicates.\n",
    "for x in range(2000):\n",
    "    lat, lng = np.random.uniform(low=-90.000, high=90.000), np.random.uniform(low=-180.000, high=180.000)\n",
    "    city = citipy.nearest_city(lat, lng)\n",
    "    cities_df = cities_df.append({\"City\": city.city_name, \"Country\": city.country_code,}, ignore_index=True)\n",
    "\n",
    "#Remove duplicate cities\n",
    "cities_df = cities_df.drop_duplicates(subset='City').reset_index()\n",
    "# cities_df.count()"
   ]
  }
 ],
 "metadata": {
  "kernelspec": {
   "display_name": "Python 3",
   "language": "python",
   "name": "python3"
  },
  "language_info": {
   "codemirror_mode": {
    "name": "ipython",
    "version": 3
   },
   "file_extension": ".py",
   "mimetype": "text/x-python",
   "name": "python",
   "nbconvert_exporter": "python",
   "pygments_lexer": "ipython3",
   "version": "3.6.4"
  }
 },
 "nbformat": 4,
 "nbformat_minor": 2
}
